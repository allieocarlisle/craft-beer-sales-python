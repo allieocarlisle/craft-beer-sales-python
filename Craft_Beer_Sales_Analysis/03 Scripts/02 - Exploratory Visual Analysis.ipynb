{
 "cells": [
  {
   "cell_type": "markdown",
   "id": "deecfb6b",
   "metadata": {},
   "source": [
    "# Exploratory Visual Analysis"
   ]
  },
  {
   "cell_type": "markdown",
   "id": "7c0c926e",
   "metadata": {},
   "source": [
    "## Table of Contents:\n",
    "\n",
    "1. Import Libraries + Data"
   ]
  },
  {
   "cell_type": "markdown",
   "id": "2ee9b887",
   "metadata": {},
   "source": [
    "## 01. Import Libraries + Data"
   ]
  },
  {
   "cell_type": "code",
   "execution_count": 1,
   "id": "b681bc54",
   "metadata": {},
   "outputs": [],
   "source": [
    "# importing libraries (add visualization libraries after I read 6.02)\n",
    "import pandas as pd\n",
    "import numpy as np\n",
    "import os"
   ]
  },
  {
   "cell_type": "code",
   "execution_count": 2,
   "id": "027a6644",
   "metadata": {},
   "outputs": [],
   "source": [
    "# import data path\n",
    "path = r'/Users/alliecarlisle/Desktop/CareerFoundry_Data_Analytics/Craft_Beer_Sales_Analysis'"
   ]
  },
  {
   "cell_type": "code",
   "execution_count": 3,
   "id": "c47c1eb6",
   "metadata": {},
   "outputs": [
    {
     "data": {
      "text/plain": [
       "'/Users/alliecarlisle/Desktop/CareerFoundry_Data_Analytics/Craft_Beer_Sales_Analysis'"
      ]
     },
     "execution_count": 3,
     "metadata": {},
     "output_type": "execute_result"
    }
   ],
   "source": [
    "path"
   ]
  },
  {
   "cell_type": "code",
   "execution_count": 4,
   "id": "020e22ac",
   "metadata": {},
   "outputs": [],
   "source": [
    "# import merged beer and transactions data set\n",
    "df_merge = pd.read_pickle(os.path.join(path, '02 Data', 'Prepared Data', 'beer_transactions.pkl'))"
   ]
  },
  {
   "cell_type": "code",
   "execution_count": 6,
   "id": "7482e3df",
   "metadata": {},
   "outputs": [
    {
     "data": {
      "text/html": [
       "<div>\n",
       "<style scoped>\n",
       "    .dataframe tbody tr th:only-of-type {\n",
       "        vertical-align: middle;\n",
       "    }\n",
       "\n",
       "    .dataframe tbody tr th {\n",
       "        vertical-align: top;\n",
       "    }\n",
       "\n",
       "    .dataframe thead th {\n",
       "        text-align: right;\n",
       "    }\n",
       "</style>\n",
       "<table border=\"1\" class=\"dataframe\">\n",
       "  <thead>\n",
       "    <tr style=\"text-align: right;\">\n",
       "      <th></th>\n",
       "      <th>product_code</th>\n",
       "      <th>vendor</th>\n",
       "      <th>name</th>\n",
       "      <th>retail_price</th>\n",
       "      <th>product_unit</th>\n",
       "      <th>vendor_country</th>\n",
       "      <th>size</th>\n",
       "      <th>abv</th>\n",
       "      <th>Date_and_time_of_unloading</th>\n",
       "      <th>units_sold</th>\n",
       "      <th>revenue</th>\n",
       "      <th>discount</th>\n",
       "      <th>profit</th>\n",
       "      <th>percent_markup</th>\n",
       "      <th>percent_discount</th>\n",
       "      <th>_merge</th>\n",
       "    </tr>\n",
       "  </thead>\n",
       "  <tbody>\n",
       "    <tr>\n",
       "      <th>0</th>\n",
       "      <td>5028</td>\n",
       "      <td>nan</td>\n",
       "      <td>1 Symbiotica Apple 0.375</td>\n",
       "      <td>300.0</td>\n",
       "      <td>Pieces</td>\n",
       "      <td>Russia</td>\n",
       "      <td>0.375</td>\n",
       "      <td>4.5</td>\n",
       "      <td>7/3/22 0:00</td>\n",
       "      <td>2.0</td>\n",
       "      <td>420.00</td>\n",
       "      <td>180.00</td>\n",
       "      <td>140.00</td>\n",
       "      <td>50.00</td>\n",
       "      <td>30.00</td>\n",
       "      <td>both</td>\n",
       "    </tr>\n",
       "    <tr>\n",
       "      <th>1</th>\n",
       "      <td>5028</td>\n",
       "      <td>nan</td>\n",
       "      <td>1 Symbiotica Apple 0.375</td>\n",
       "      <td>300.0</td>\n",
       "      <td>Pieces</td>\n",
       "      <td>Russia</td>\n",
       "      <td>0.375</td>\n",
       "      <td>4.5</td>\n",
       "      <td>7/9/22 13:00</td>\n",
       "      <td>4.0</td>\n",
       "      <td>960.00</td>\n",
       "      <td>240.00</td>\n",
       "      <td>400.00</td>\n",
       "      <td>71.43</td>\n",
       "      <td>20.00</td>\n",
       "      <td>both</td>\n",
       "    </tr>\n",
       "    <tr>\n",
       "      <th>2</th>\n",
       "      <td>5028</td>\n",
       "      <td>nan</td>\n",
       "      <td>1 Symbiotica Apple 0.375</td>\n",
       "      <td>300.0</td>\n",
       "      <td>Pieces</td>\n",
       "      <td>Russia</td>\n",
       "      <td>0.375</td>\n",
       "      <td>4.5</td>\n",
       "      <td>7/19/22 20:00</td>\n",
       "      <td>5.0</td>\n",
       "      <td>1440.00</td>\n",
       "      <td>60.00</td>\n",
       "      <td>740.00</td>\n",
       "      <td>105.71</td>\n",
       "      <td>4.00</td>\n",
       "      <td>both</td>\n",
       "    </tr>\n",
       "    <tr>\n",
       "      <th>3</th>\n",
       "      <td>4846</td>\n",
       "      <td>nan</td>\n",
       "      <td>1 Symbiotica Hard Kombucha Renegade Aronia 0.33</td>\n",
       "      <td>200.0</td>\n",
       "      <td>Pieces</td>\n",
       "      <td>Russia</td>\n",
       "      <td>0.330</td>\n",
       "      <td>3.0</td>\n",
       "      <td>3/20/22 17:00</td>\n",
       "      <td>4.0</td>\n",
       "      <td>412.23</td>\n",
       "      <td>277.77</td>\n",
       "      <td>52.23</td>\n",
       "      <td>14.51</td>\n",
       "      <td>40.26</td>\n",
       "      <td>both</td>\n",
       "    </tr>\n",
       "    <tr>\n",
       "      <th>4</th>\n",
       "      <td>4846</td>\n",
       "      <td>nan</td>\n",
       "      <td>1 Symbiotica Hard Kombucha Renegade Aronia 0.33</td>\n",
       "      <td>200.0</td>\n",
       "      <td>Pieces</td>\n",
       "      <td>Russia</td>\n",
       "      <td>0.330</td>\n",
       "      <td>3.0</td>\n",
       "      <td>3/23/22 17:00</td>\n",
       "      <td>2.0</td>\n",
       "      <td>360.00</td>\n",
       "      <td>40.00</td>\n",
       "      <td>180.00</td>\n",
       "      <td>100.00</td>\n",
       "      <td>10.00</td>\n",
       "      <td>both</td>\n",
       "    </tr>\n",
       "  </tbody>\n",
       "</table>\n",
       "</div>"
      ],
      "text/plain": [
       "  product_code vendor                                             name  \\\n",
       "0         5028    nan                         1 Symbiotica Apple 0.375   \n",
       "1         5028    nan                         1 Symbiotica Apple 0.375   \n",
       "2         5028    nan                         1 Symbiotica Apple 0.375   \n",
       "3         4846    nan  1 Symbiotica Hard Kombucha Renegade Aronia 0.33   \n",
       "4         4846    nan  1 Symbiotica Hard Kombucha Renegade Aronia 0.33   \n",
       "\n",
       "   retail_price product_unit vendor_country   size  abv  \\\n",
       "0         300.0       Pieces         Russia  0.375  4.5   \n",
       "1         300.0       Pieces         Russia  0.375  4.5   \n",
       "2         300.0       Pieces         Russia  0.375  4.5   \n",
       "3         200.0       Pieces         Russia  0.330  3.0   \n",
       "4         200.0       Pieces         Russia  0.330  3.0   \n",
       "\n",
       "  Date_and_time_of_unloading  units_sold  revenue  discount  profit  \\\n",
       "0                7/3/22 0:00         2.0   420.00    180.00  140.00   \n",
       "1               7/9/22 13:00         4.0   960.00    240.00  400.00   \n",
       "2              7/19/22 20:00         5.0  1440.00     60.00  740.00   \n",
       "3              3/20/22 17:00         4.0   412.23    277.77   52.23   \n",
       "4              3/23/22 17:00         2.0   360.00     40.00  180.00   \n",
       "\n",
       "   percent_markup  percent_discount _merge  \n",
       "0           50.00             30.00   both  \n",
       "1           71.43             20.00   both  \n",
       "2          105.71              4.00   both  \n",
       "3           14.51             40.26   both  \n",
       "4          100.00             10.00   both  "
      ]
     },
     "execution_count": 6,
     "metadata": {},
     "output_type": "execute_result"
    }
   ],
   "source": [
    "df_merge.head()"
   ]
  },
  {
   "cell_type": "code",
   "execution_count": 7,
   "id": "0ab1ebb7",
   "metadata": {},
   "outputs": [
    {
     "data": {
      "text/plain": [
       "(50081, 16)"
      ]
     },
     "execution_count": 7,
     "metadata": {},
     "output_type": "execute_result"
    }
   ],
   "source": [
    "df_merge.shape"
   ]
  },
  {
   "cell_type": "code",
   "execution_count": null,
   "id": "876040b2",
   "metadata": {},
   "outputs": [],
   "source": []
  }
 ],
 "metadata": {
  "kernelspec": {
   "display_name": "Python 3 (ipykernel)",
   "language": "python",
   "name": "python3"
  },
  "language_info": {
   "codemirror_mode": {
    "name": "ipython",
    "version": 3
   },
   "file_extension": ".py",
   "mimetype": "text/x-python",
   "name": "python",
   "nbconvert_exporter": "python",
   "pygments_lexer": "ipython3",
   "version": "3.10.9"
  }
 },
 "nbformat": 4,
 "nbformat_minor": 5
}
